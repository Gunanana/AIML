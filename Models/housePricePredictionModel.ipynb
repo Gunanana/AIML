{
 "cells": [
  {
   "cell_type": "code",
   "execution_count": 5,
   "metadata": {},
   "outputs": [
    {
     "name": "stdout",
     "output_type": "stream",
     "text": [
      "13580\n"
     ]
    }
   ],
   "source": [
    "# STEP 1 : Data Preparation\n",
    "import pandas as pd\n",
    "from sklearn.model_selection import train_test_split\n",
    "\n",
    "data = pd.read_csv(\"D:\\IMPORTANT\\Programming\\AIML\\Data\\melbourne_data.csv\")\n",
    "# print(data.iloc[:5, :3])\n",
    "# print(data.columns)\n",
    "print(len(data))\n",
    "\n",
    "y = data.Price\n",
    "iFeatures = [\n",
    "        'Suburb', 'Address', 'Rooms', 'Type','SellerG',\n",
    "       'Date', 'Distance', 'Postcode', 'Bedroom2', 'Bathroom', 'Car',\n",
    "       'Landsize', 'BuildingArea', 'YearBuilt', 'CouncilArea', 'Lattitude',\n",
    "       'Longtitude', 'Regionname', 'Propertycount']\n",
    "\n",
    "X = data[iFeatures]\n",
    "\n",
    "trainX, valX, trainy, valy = train_test_split(X, y, random_state = 1)"
   ]
  },
  {
   "cell_type": "code",
   "execution_count": null,
   "metadata": {},
   "outputs": [],
   "source": [
    "from sklearn.model_selection import train_test_split\n",
    "from sklearn.ensemble import RandomForestRegressor\n",
    "from sklearn.metrics import mean_absolute_error"
   ]
  }
 ],
 "metadata": {
  "kernelspec": {
   "display_name": "Python 3",
   "language": "python",
   "name": "python3"
  },
  "language_info": {
   "codemirror_mode": {
    "name": "ipython",
    "version": 3
   },
   "file_extension": ".py",
   "mimetype": "text/x-python",
   "name": "python",
   "nbconvert_exporter": "python",
   "pygments_lexer": "ipython3",
   "version": "3.11.9"
  }
 },
 "nbformat": 4,
 "nbformat_minor": 2
}
