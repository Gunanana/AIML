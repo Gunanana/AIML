{
  "nbformat": 4,
  "nbformat_minor": 0,
  "metadata": {
    "colab": {
      "provenance": [],
      "authorship_tag": "ABX9TyP8wjkKztwConwO6K8skt/T",
      "include_colab_link": true
    },
    "kernelspec": {
      "name": "python3",
      "display_name": "Python 3"
    },
    "language_info": {
      "name": "python"
    }
  },
  "cells": [
    {
      "cell_type": "markdown",
      "metadata": {
        "id": "view-in-github",
        "colab_type": "text"
      },
      "source": [
        "<a href=\"https://colab.research.google.com/github/Gunanana/AIML/blob/main/BetterLifeIndex.ipynb\" target=\"_parent\"><img src=\"https://colab.research.google.com/assets/colab-badge.svg\" alt=\"Open In Colab\"/></a>"
      ]
    },
    {
      "cell_type": "markdown",
      "source": [
        "### Better Life Index. Predicting the Life satisfaction based on only 1 feature - *GDP per Capita 2015*"
      ],
      "metadata": {
        "id": "eKNTcF944cq7"
      }
    },
    {
      "cell_type": "code",
      "execution_count": null,
      "metadata": {
        "id": "9YtRR92jgfdr"
      },
      "outputs": [],
      "source": [
        "import pandas as pd\n",
        "import numpy as np\n",
        "import matplotlib.pyplot as plt\n",
        "\n",
        "from sklearn.metrics import mean_absolute_error\n",
        "from sklearn.preprocessing import PolynomialFeatures\n",
        "from sklearn.linear_model import LinearRegression"
      ]
    },
    {
      "cell_type": "code",
      "source": [
        "# Import csv files\n",
        "bli = pd.read_csv('/BetterLifeIndex2015.csv')\n",
        "gdp_alltime = pd.read_csv('/gdp_all_time.csv')"
      ],
      "metadata": {
        "id": "eUJL7ou15wxm"
      },
      "execution_count": null,
      "outputs": []
    },
    {
      "cell_type": "code",
      "source": [
        "print(bli.shape)\n",
        "print(gdp_alltime.shape)\n",
        "gdp_alltime.rename(columns={'Country Name':'Country'}, inplace=True)\n",
        "print(gdp_alltime.columns)\n",
        "print(bli.columns)"
      ],
      "metadata": {
        "colab": {
          "base_uri": "https://localhost:8080/"
        },
        "id": "McdEL3K6JPRy",
        "outputId": "c3469210-248b-459f-dd5a-b82c72993df3"
      },
      "execution_count": null,
      "outputs": [
        {
          "output_type": "stream",
          "name": "stdout",
          "text": [
            "(36, 25)\n",
            "(266, 68)\n",
            "Index(['Country', 'Country Code', 'Indicator Name', 'Indicator Code', '1960',\n",
            "       '1961', '1962', '1963', '1964', '1965', '1966', '1967', '1968', '1969',\n",
            "       '1970', '1971', '1972', '1973', '1974', '1975', '1976', '1977', '1978',\n",
            "       '1979', '1980', '1981', '1982', '1983', '1984', '1985', '1986', '1987',\n",
            "       '1988', '1989', '1990', '1991', '1992', '1993', '1994', '1995', '1996',\n",
            "       '1997', '1998', '1999', '2000', '2001', '2002', '2003', '2004', '2005',\n",
            "       '2006', '2007', '2008', '2009', '2010', '2011', '2012', '2013', '2014',\n",
            "       '2015', '2016', '2017', '2018', '2019', '2020', '2021', '2022', '2023'],\n",
            "      dtype='object')\n",
            "Index(['Country', '  Dwellings without basic facilities',\n",
            "       '  Housing expenditure', '  Rooms per person',\n",
            "       '  Household net adjusted disposable income',\n",
            "       '  Household net financial wealth', '  Employment rate',\n",
            "       '  Job security', '  Long-term unemployment rate',\n",
            "       '  Personal earnings', '  Quality of support network',\n",
            "       '  Educational attainment', '  Student skills', '  Years in education',\n",
            "       '  Air pollution', '  Water quality', '  Consultation on rule-making',\n",
            "       '  Voter turnout', '  Life expectancy', '  Self-reported health',\n",
            "       '  Life satisfaction', '  Assault rate', '  Homicide rate',\n",
            "       '  Employees working very long hours',\n",
            "       '  Time devoted to leisure and personal care'],\n",
            "      dtype='object')\n"
          ]
        }
      ]
    },
    {
      "cell_type": "code",
      "source": [
        "# function to prepare the DataFrame\n",
        "\n",
        "def prepare_country_stats(bli, gdp):\n",
        "  # 'inner' merge only selects countries which both dataset have\n",
        "  country_stats = pd.merge(bli, gdp, on='Country', how='inner')\n",
        "\n",
        "  country_stats = country_stats.dropna()\n",
        "\n",
        "  country_stats = country_stats[['Country', '2015', '  Life satisfaction']]\n",
        "\n",
        "  country_stats.rename(columns={'2015':'GDP per capita 2015', '  Life satisfaction':'Life Satisfaction'}, inplace=True)\n",
        "\n",
        "  country_stats.set_index('Country', inplace=True)\n",
        "\n",
        "  return country_stats"
      ],
      "metadata": {
        "id": "irUUW1GdLH8N"
      },
      "execution_count": null,
      "outputs": []
    },
    {
      "cell_type": "code",
      "source": [
        "country_stats = prepare_country_stats(bli, gdp_alltime)\n",
        "# print(type(country_stats))\n",
        "print(country_stats.head())"
      ],
      "metadata": {
        "colab": {
          "base_uri": "https://localhost:8080/"
        },
        "id": "t4K_KRvOORy5",
        "outputId": "62ba3d8a-1397-4dd2-b7a9-7d8fb0b84fb6"
      },
      "execution_count": null,
      "outputs": [
        {
          "output_type": "stream",
          "name": "stdout",
          "text": [
            "           GDP per capita 2015  Life Satisfaction\n",
            "Country                                          \n",
            "Australia          56758.86920                7.3\n",
            "Austria            44195.81759                6.9\n",
            "Belgium            41008.29672                6.9\n",
            "Canada             43594.19410                7.3\n",
            "Chile              13567.35722                6.7\n"
          ]
        }
      ]
    },
    {
      "cell_type": "code",
      "source": [
        "# Prepare the Data\n",
        "X = pd.DataFrame(country_stats['GDP per capita 2015'])\n",
        "y = pd.DataFrame(country_stats['Life Satisfaction'])"
      ],
      "metadata": {
        "id": "bC6sRfC3U5I3"
      },
      "execution_count": null,
      "outputs": []
    },
    {
      "cell_type": "code",
      "source": [
        "# Visualize the Data\n",
        "country_stats.plot(kind='scatter', x='GDP per capita 2015', y='Life Satisfaction')\n",
        "plt.show()"
      ],
      "metadata": {
        "colab": {
          "base_uri": "https://localhost:8080/",
          "height": 449
        },
        "id": "nCFTje37VUig",
        "outputId": "fce3578d-568f-4279-bbe4-3b15af6da171"
      },
      "execution_count": null,
      "outputs": [
        {
          "output_type": "display_data",
          "data": {
            "text/plain": [
              "<Figure size 640x480 with 1 Axes>"
            ],
            "image/png": "[encoded data removed]"
          },
          "metadata": {}
        }
      ]
    },
    {
      "cell_type": "code",
      "source": [
        "# Since the relationship is not linear, we can fit a polynomial function\n",
        "poly = PolynomialFeatures(degree=5)\n",
        "X_poly = pd.DataFrame(poly.fit_transform(X))\n",
        "\n",
        "print(X_poly.head())"
      ],
      "metadata": {
        "colab": {
          "base_uri": "https://localhost:8080/"
        },
        "id": "6fzjVWhtXTiz",
        "outputId": "5ba6b34c-0b13-44fe-f0bf-d94186e616f4"
      },
      "execution_count": null,
      "outputs": [
        {
          "output_type": "stream",
          "name": "stdout",
          "text": [
            "     0            1             2             3             4             5\n",
            "0  1.0  56758.86920  3.221569e+09  1.828526e+14  1.037851e+19  5.890724e+23\n",
            "1  1.0  44195.81759  1.953270e+09  8.632638e+13  3.815265e+18  1.686187e+23\n",
            "2  1.0  41008.29672  1.681680e+09  6.896285e+13  2.828049e+18  1.159735e+23\n",
            "3  1.0  43594.19410  1.900454e+09  8.284875e+13  3.611724e+18  1.574502e+23\n",
            "4  1.0  13567.35722  1.840732e+08  2.497387e+12  3.388294e+16  4.597019e+20\n"
          ]
        }
      ]
    },
    {
      "cell_type": "code",
      "source": [
        "X_squared = X_poly.iloc[:,4]\n",
        "plt.scatter(X_squared, y, color='blue')\n",
        "plt.xlabel('GDP per capita 2015 (Squared)')\n",
        "plt.ylabel('Life Satisfaction')\n",
        "plt.show()"
      ],
      "metadata": {
        "colab": {
          "base_uri": "https://localhost:8080/",
          "height": 449
        },
        "id": "ZZeWIX6Obmpr",
        "outputId": "81e13454-ceb5-4f15-c605-f1ee1e1487ff"
      },
      "execution_count": null,
      "outputs": [
        {
          "output_type": "display_data",
          "data": {
            "text/plain": [
              "<Figure size 640x480 with 1 Axes>"
            ],
            "image/png": "[encoded data removed]"
          },
          "metadata": {}
        }
      ]
    },
    {
      "cell_type": "code",
      "source": [
        "# Fit a Linear model\n",
        "\n",
        "model = LinearRegression()\n",
        "model.fit(X_poly, y)\n",
        "\n",
        "mae = mean_absolute_error(model.predict(X_poly), y)\n",
        "print(mae)"
      ],
      "metadata": {
        "colab": {
          "base_uri": "https://localhost:8080/"
        },
        "id": "cu9EHw7QYQmp",
        "outputId": "d9424670-cda9-4a91-e501-d4513591f4f4"
      },
      "execution_count": null,
      "outputs": [
        {
          "output_type": "stream",
          "name": "stdout",
          "text": [
            "0.40399732002308925\n"
          ]
        }
      ]
    }
  ]
}
